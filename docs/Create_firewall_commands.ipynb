{
  "nbformat": 4,
  "nbformat_minor": 0,
  "metadata": {
    "colab": {
      "provenance": []
    },
    "kernelspec": {
      "name": "python3",
      "display_name": "Python 3"
    },
    "language_info": {
      "name": "python"
    }
  },
  "cells": [
    {
      "cell_type": "markdown",
      "source": [
        "#Create Firewall Commands for Bittensor Using Colab\n",
        "Recently, there have been ddos attacks on the bittensor network, and to protect your miners, you can modify the server running your miners to only accept requests from validator IP address ranges.\n",
        "\n",
        "This colab generates ufw (uncomplicated firewall) commands that can be used on ubuntu instances to filter out what IP addresses are allowed to request the instance.\n",
        "\n",
        "Please be very very very careful and read up on ufw and blocking IP addresses before using this, so you don't accidentally lock yourself out.\n",
        "\n",
        "After that, you can follow the instructions below using a google colab to generate commands to block off ddos attacks."
      ],
      "metadata": {
        "id": "VjrJfSL53PZZ"
      }
    },
    {
      "cell_type": "code",
      "execution_count": 38,
      "metadata": {
        "colab": {
          "base_uri": "https://localhost:8080/",
          "height": 1000
        },
        "id": "NrC_WqbTvRdd",
        "outputId": "d9036a6a-c29e-47de-dec8-914cd515724f"
      },
      "outputs": [
        {
          "output_type": "stream",
          "name": "stdout",
          "text": [
            "Requirement already satisfied: bittensor in /usr/local/lib/python3.10/dist-packages (5.3.3)\n",
            "Requirement already satisfied: ansible-vault==2.1 in /usr/local/lib/python3.10/dist-packages (from bittensor) (2.1.0)\n",
            "Collecting argparse==1.4.0 (from bittensor)\n",
            "  Using cached argparse-1.4.0-py2.py3-none-any.whl (23 kB)\n",
            "Requirement already satisfied: base58==2.0.1 in /usr/local/lib/python3.10/dist-packages (from bittensor) (2.0.1)\n",
            "Requirement already satisfied: backoff==2.1.0 in /usr/local/lib/python3.10/dist-packages (from bittensor) (2.1.0)\n",
            "Requirement already satisfied: bittensor-config<1.0.0,>=0.0.0 in /usr/local/lib/python3.10/dist-packages (from bittensor) (0.0.0)\n",
            "Requirement already satisfied: bittensor-wallet<1.0.0,==0.0.4 in /usr/local/lib/python3.10/dist-packages (from bittensor) (0.0.4)\n",
            "Requirement already satisfied: cryptography==41.0.0 in /usr/local/lib/python3.10/dist-packages (from bittensor) (41.0.0)\n",
            "Requirement already satisfied: fuzzywuzzy==0.18.0 in /usr/local/lib/python3.10/dist-packages (from bittensor) (0.18.0)\n",
            "Requirement already satisfied: grpcio==1.42.0 in /usr/local/lib/python3.10/dist-packages (from bittensor) (1.42.0)\n",
            "Requirement already satisfied: grpcio-tools==1.42.0 in /usr/local/lib/python3.10/dist-packages (from bittensor) (1.42.0)\n",
            "Requirement already satisfied: hypothesis==6.47.4 in /usr/local/lib/python3.10/dist-packages (from bittensor) (6.47.4)\n",
            "Requirement already satisfied: idna<3,>=2.5 in /usr/local/lib/python3.10/dist-packages (from bittensor) (2.10)\n",
            "Requirement already satisfied: jsonschema[format-nongpl]<=4.17.0,>=4.14.0 in /usr/local/lib/python3.10/dist-packages (from bittensor) (4.17.0)\n",
            "Requirement already satisfied: langchain<=0.0.188,>=0.0.132 in /usr/local/lib/python3.10/dist-packages (from bittensor) (0.0.188)\n",
            "Requirement already satisfied: loguru==0.6.0 in /usr/local/lib/python3.10/dist-packages (from bittensor) (0.6.0)\n",
            "Requirement already satisfied: msgpack==1.0.4 in /usr/local/lib/python3.10/dist-packages (from bittensor) (1.0.4)\n",
            "Requirement already satisfied: msgpack-numpy==0.4.7.1 in /usr/local/lib/python3.10/dist-packages (from bittensor) (0.4.7.1)\n",
            "Requirement already satisfied: miniupnpc==2.0.2 in /usr/local/lib/python3.10/dist-packages (from bittensor) (2.0.2)\n",
            "Requirement already satisfied: munch==2.5.0 in /usr/local/lib/python3.10/dist-packages (from bittensor) (2.5.0)\n",
            "Requirement already satisfied: nest-asyncio==1.5.6 in /usr/local/lib/python3.10/dist-packages (from bittensor) (1.5.6)\n",
            "Requirement already satisfied: netaddr==0.8.0 in /usr/local/lib/python3.10/dist-packages (from bittensor) (0.8.0)\n",
            "Requirement already satisfied: numpy<=1.24.2,>=1.21.6 in /usr/local/lib/python3.10/dist-packages (from bittensor) (1.22.4)\n",
            "Requirement already satisfied: pandas==1.5.2 in /usr/local/lib/python3.10/dist-packages (from bittensor) (1.5.2)\n",
            "Requirement already satisfied: password-strength==0.0.3.post2 in /usr/local/lib/python3.10/dist-packages (from bittensor) (0.0.3.post2)\n",
            "Requirement already satisfied: prometheus-client==0.14.1 in /usr/local/lib/python3.10/dist-packages (from bittensor) (0.14.1)\n",
            "Requirement already satisfied: protobuf==3.19.5 in /usr/local/lib/python3.10/dist-packages (from bittensor) (3.19.5)\n",
            "Requirement already satisfied: psutil==5.9.4 in /usr/local/lib/python3.10/dist-packages (from bittensor) (5.9.4)\n",
            "Requirement already satisfied: python-levenshtein==0.12.1 in /usr/local/lib/python3.10/dist-packages (from bittensor) (0.12.1)\n",
            "Requirement already satisfied: pyyaml==6.0 in /usr/local/lib/python3.10/dist-packages (from bittensor) (6.0)\n",
            "Requirement already satisfied: retry==0.9.2 in /usr/local/lib/python3.10/dist-packages (from bittensor) (0.9.2)\n",
            "Requirement already satisfied: requests==2.25.0 in /usr/local/lib/python3.10/dist-packages (from bittensor) (2.25.0)\n",
            "Requirement already satisfied: rich==12.5.1 in /usr/local/lib/python3.10/dist-packages (from bittensor) (12.5.1)\n",
            "Requirement already satisfied: scalecodec==1.2.0 in /usr/local/lib/python3.10/dist-packages (from bittensor) (1.2.0)\n",
            "Requirement already satisfied: substrate-interface==1.5.0 in /usr/local/lib/python3.10/dist-packages (from bittensor) (1.5.0)\n",
            "Requirement already satisfied: termcolor==2.1.1 in /usr/local/lib/python3.10/dist-packages (from bittensor) (2.1.1)\n",
            "Requirement already satisfied: torch<=2.0.1,>=1.13.1 in /usr/local/lib/python3.10/dist-packages (from bittensor) (2.0.1+cu118)\n",
            "Requirement already satisfied: transformers<=4.28.0,>=4.20.1 in /usr/local/lib/python3.10/dist-packages (from bittensor) (4.28.0)\n",
            "Requirement already satisfied: tqdm==4.64.1 in /usr/local/lib/python3.10/dist-packages (from bittensor) (4.64.1)\n",
            "Requirement already satisfied: wheel==0.37.1 in /usr/local/lib/python3.10/dist-packages (from bittensor) (0.37.1)\n",
            "Requirement already satisfied: setuptools in /usr/local/lib/python3.10/dist-packages (from ansible-vault==2.1->bittensor) (67.7.2)\n",
            "Requirement already satisfied: ansible in /usr/local/lib/python3.10/dist-packages (from ansible-vault==2.1->bittensor) (8.2.0)\n",
            "Requirement already satisfied: pathlib==1.0.1 in /usr/local/lib/python3.10/dist-packages (from bittensor-wallet<1.0.0,==0.0.4->bittensor) (1.0.1)\n",
            "Requirement already satisfied: six==1.16.0 in /usr/local/lib/python3.10/dist-packages (from bittensor-config<1.0.0,>=0.0.0->bittensor) (1.16.0)\n",
            "Requirement already satisfied: cffi>=1.12 in /usr/local/lib/python3.10/dist-packages (from cryptography==41.0.0->bittensor) (1.15.1)\n",
            "Requirement already satisfied: attrs>=19.2.0 in /usr/local/lib/python3.10/dist-packages (from hypothesis==6.47.4->bittensor) (23.1.0)\n",
            "Requirement already satisfied: sortedcontainers<3.0.0,>=2.1.0 in /usr/local/lib/python3.10/dist-packages (from hypothesis==6.47.4->bittensor) (2.4.0)\n",
            "Requirement already satisfied: exceptiongroup>=1.0.0rc8 in /usr/local/lib/python3.10/dist-packages (from hypothesis==6.47.4->bittensor) (1.1.2)\n",
            "Requirement already satisfied: python-dateutil>=2.8.1 in /usr/local/lib/python3.10/dist-packages (from pandas==1.5.2->bittensor) (2.8.2)\n",
            "Requirement already satisfied: pytz>=2020.1 in /usr/local/lib/python3.10/dist-packages (from pandas==1.5.2->bittensor) (2022.7.1)\n",
            "Requirement already satisfied: chardet<4,>=3.0.2 in /usr/local/lib/python3.10/dist-packages (from requests==2.25.0->bittensor) (3.0.4)\n",
            "Requirement already satisfied: urllib3<1.27,>=1.21.1 in /usr/local/lib/python3.10/dist-packages (from requests==2.25.0->bittensor) (1.26.16)\n",
            "Requirement already satisfied: certifi>=2017.4.17 in /usr/local/lib/python3.10/dist-packages (from requests==2.25.0->bittensor) (2023.7.22)\n",
            "Requirement already satisfied: decorator>=3.4.2 in /usr/local/lib/python3.10/dist-packages (from retry==0.9.2->bittensor) (4.4.2)\n",
            "Requirement already satisfied: py<2.0.0,>=1.4.26 in /usr/local/lib/python3.10/dist-packages (from retry==0.9.2->bittensor) (1.11.0)\n",
            "Requirement already satisfied: commonmark<0.10.0,>=0.9.0 in /usr/local/lib/python3.10/dist-packages (from rich==12.5.1->bittensor) (0.9.1)\n",
            "Requirement already satisfied: pygments<3.0.0,>=2.6.0 in /usr/local/lib/python3.10/dist-packages (from rich==12.5.1->bittensor) (2.14.0)\n",
            "Requirement already satisfied: more-itertools in /usr/local/lib/python3.10/dist-packages (from scalecodec==1.2.0->bittensor) (9.1.0)\n",
            "Requirement already satisfied: websocket-client<2,>=0.57.0 in /usr/local/lib/python3.10/dist-packages (from substrate-interface==1.5.0->bittensor) (1.6.1)\n",
            "Requirement already satisfied: xxhash<4,>=1.3.0 in /usr/local/lib/python3.10/dist-packages (from substrate-interface==1.5.0->bittensor) (3.3.0)\n",
            "Requirement already satisfied: ecdsa<1,>=0.17.0 in /usr/local/lib/python3.10/dist-packages (from substrate-interface==1.5.0->bittensor) (0.18.0)\n",
            "Requirement already satisfied: eth-keys<1,>=0.2.1 in /usr/local/lib/python3.10/dist-packages (from substrate-interface==1.5.0->bittensor) (0.4.0)\n",
            "Requirement already satisfied: eth-utils<3,>=1.3.0 in /usr/local/lib/python3.10/dist-packages (from substrate-interface==1.5.0->bittensor) (2.2.0)\n",
            "Requirement already satisfied: pycryptodome<4,>=3.11.0 in /usr/local/lib/python3.10/dist-packages (from substrate-interface==1.5.0->bittensor) (3.18.0)\n",
            "Requirement already satisfied: PyNaCl<2,>=1.0.1 in /usr/local/lib/python3.10/dist-packages (from substrate-interface==1.5.0->bittensor) (1.5.0)\n",
            "Requirement already satisfied: py-sr25519-bindings<1,>=0.2.0 in /usr/local/lib/python3.10/dist-packages (from substrate-interface==1.5.0->bittensor) (0.2.0)\n",
            "Requirement already satisfied: py-ed25519-zebra-bindings<2,>=1.0 in /usr/local/lib/python3.10/dist-packages (from substrate-interface==1.5.0->bittensor) (1.0.1)\n",
            "Requirement already satisfied: py-bip39-bindings<1,>=0.1.9 in /usr/local/lib/python3.10/dist-packages (from substrate-interface==1.5.0->bittensor) (0.1.11)\n",
            "Requirement already satisfied: pyrsistent!=0.17.0,!=0.17.1,!=0.17.2,>=0.14.0 in /usr/local/lib/python3.10/dist-packages (from jsonschema[format-nongpl]<=4.17.0,>=4.14.0->bittensor) (0.19.3)\n",
            "Requirement already satisfied: fqdn in /usr/local/lib/python3.10/dist-packages (from jsonschema[format-nongpl]<=4.17.0,>=4.14.0->bittensor) (1.5.1)\n",
            "Requirement already satisfied: isoduration in /usr/local/lib/python3.10/dist-packages (from jsonschema[format-nongpl]<=4.17.0,>=4.14.0->bittensor) (20.11.0)\n",
            "Requirement already satisfied: jsonpointer>1.13 in /usr/local/lib/python3.10/dist-packages (from jsonschema[format-nongpl]<=4.17.0,>=4.14.0->bittensor) (2.4)\n",
            "Requirement already satisfied: rfc3339-validator in /usr/local/lib/python3.10/dist-packages (from jsonschema[format-nongpl]<=4.17.0,>=4.14.0->bittensor) (0.1.4)\n",
            "Requirement already satisfied: rfc3986-validator>0.1.0 in /usr/local/lib/python3.10/dist-packages (from jsonschema[format-nongpl]<=4.17.0,>=4.14.0->bittensor) (0.1.1)\n",
            "Requirement already satisfied: uri-template in /usr/local/lib/python3.10/dist-packages (from jsonschema[format-nongpl]<=4.17.0,>=4.14.0->bittensor) (1.3.0)\n",
            "Requirement already satisfied: webcolors>=1.11 in /usr/local/lib/python3.10/dist-packages (from jsonschema[format-nongpl]<=4.17.0,>=4.14.0->bittensor) (1.13)\n",
            "Requirement already satisfied: SQLAlchemy<3,>=1.4 in /usr/local/lib/python3.10/dist-packages (from langchain<=0.0.188,>=0.0.132->bittensor) (2.0.19)\n",
            "Requirement already satisfied: aiohttp<4.0.0,>=3.8.3 in /usr/local/lib/python3.10/dist-packages (from langchain<=0.0.188,>=0.0.132->bittensor) (3.8.5)\n",
            "Requirement already satisfied: async-timeout<5.0.0,>=4.0.0 in /usr/local/lib/python3.10/dist-packages (from langchain<=0.0.188,>=0.0.132->bittensor) (4.0.2)\n",
            "Requirement already satisfied: dataclasses-json<0.6.0,>=0.5.7 in /usr/local/lib/python3.10/dist-packages (from langchain<=0.0.188,>=0.0.132->bittensor) (0.5.14)\n",
            "Requirement already satisfied: numexpr<3.0.0,>=2.8.4 in /usr/local/lib/python3.10/dist-packages (from langchain<=0.0.188,>=0.0.132->bittensor) (2.8.4)\n",
            "Requirement already satisfied: openapi-schema-pydantic<2.0,>=1.2 in /usr/local/lib/python3.10/dist-packages (from langchain<=0.0.188,>=0.0.132->bittensor) (1.2.4)\n",
            "Requirement already satisfied: pydantic<2,>=1 in /usr/local/lib/python3.10/dist-packages (from langchain<=0.0.188,>=0.0.132->bittensor) (1.10.12)\n",
            "Requirement already satisfied: tenacity<9.0.0,>=8.1.0 in /usr/local/lib/python3.10/dist-packages (from langchain<=0.0.188,>=0.0.132->bittensor) (8.2.2)\n",
            "Requirement already satisfied: filelock in /usr/local/lib/python3.10/dist-packages (from torch<=2.0.1,>=1.13.1->bittensor) (3.12.2)\n",
            "Requirement already satisfied: typing-extensions in /usr/local/lib/python3.10/dist-packages (from torch<=2.0.1,>=1.13.1->bittensor) (4.7.1)\n",
            "Requirement already satisfied: sympy in /usr/local/lib/python3.10/dist-packages (from torch<=2.0.1,>=1.13.1->bittensor) (1.11.1)\n",
            "Requirement already satisfied: networkx in /usr/local/lib/python3.10/dist-packages (from torch<=2.0.1,>=1.13.1->bittensor) (3.1)\n",
            "Requirement already satisfied: jinja2 in /usr/local/lib/python3.10/dist-packages (from torch<=2.0.1,>=1.13.1->bittensor) (3.1.2)\n",
            "Requirement already satisfied: triton==2.0.0 in /usr/local/lib/python3.10/dist-packages (from torch<=2.0.1,>=1.13.1->bittensor) (2.0.0)\n",
            "Requirement already satisfied: cmake in /usr/local/lib/python3.10/dist-packages (from triton==2.0.0->torch<=2.0.1,>=1.13.1->bittensor) (3.25.2)\n",
            "Requirement already satisfied: lit in /usr/local/lib/python3.10/dist-packages (from triton==2.0.0->torch<=2.0.1,>=1.13.1->bittensor) (16.0.6)\n",
            "Requirement already satisfied: huggingface-hub<1.0,>=0.11.0 in /usr/local/lib/python3.10/dist-packages (from transformers<=4.28.0,>=4.20.1->bittensor) (0.16.4)\n",
            "Requirement already satisfied: packaging>=20.0 in /usr/local/lib/python3.10/dist-packages (from transformers<=4.28.0,>=4.20.1->bittensor) (23.1)\n",
            "Requirement already satisfied: regex!=2019.12.17 in /usr/local/lib/python3.10/dist-packages (from transformers<=4.28.0,>=4.20.1->bittensor) (2022.10.31)\n",
            "Requirement already satisfied: tokenizers!=0.11.3,<0.14,>=0.11.1 in /usr/local/lib/python3.10/dist-packages (from transformers<=4.28.0,>=4.20.1->bittensor) (0.13.3)\n",
            "Requirement already satisfied: charset-normalizer<4.0,>=2.0 in /usr/local/lib/python3.10/dist-packages (from aiohttp<4.0.0,>=3.8.3->langchain<=0.0.188,>=0.0.132->bittensor) (2.0.12)\n",
            "Requirement already satisfied: multidict<7.0,>=4.5 in /usr/local/lib/python3.10/dist-packages (from aiohttp<4.0.0,>=3.8.3->langchain<=0.0.188,>=0.0.132->bittensor) (6.0.4)\n",
            "Requirement already satisfied: yarl<2.0,>=1.0 in /usr/local/lib/python3.10/dist-packages (from aiohttp<4.0.0,>=3.8.3->langchain<=0.0.188,>=0.0.132->bittensor) (1.9.2)\n",
            "Requirement already satisfied: frozenlist>=1.1.1 in /usr/local/lib/python3.10/dist-packages (from aiohttp<4.0.0,>=3.8.3->langchain<=0.0.188,>=0.0.132->bittensor) (1.4.0)\n",
            "Requirement already satisfied: aiosignal>=1.1.2 in /usr/local/lib/python3.10/dist-packages (from aiohttp<4.0.0,>=3.8.3->langchain<=0.0.188,>=0.0.132->bittensor) (1.3.1)\n",
            "Requirement already satisfied: pycparser in /usr/local/lib/python3.10/dist-packages (from cffi>=1.12->cryptography==41.0.0->bittensor) (2.21)\n",
            "Requirement already satisfied: marshmallow<4.0.0,>=3.18.0 in /usr/local/lib/python3.10/dist-packages (from dataclasses-json<0.6.0,>=0.5.7->langchain<=0.0.188,>=0.0.132->bittensor) (3.20.1)\n",
            "Requirement already satisfied: typing-inspect<1,>=0.4.0 in /usr/local/lib/python3.10/dist-packages (from dataclasses-json<0.6.0,>=0.5.7->langchain<=0.0.188,>=0.0.132->bittensor) (0.9.0)\n",
            "Requirement already satisfied: eth-typing<4,>=3.0.0 in /usr/local/lib/python3.10/dist-packages (from eth-keys<1,>=0.2.1->substrate-interface==1.5.0->bittensor) (3.4.0)\n",
            "Requirement already satisfied: eth-hash>=0.3.1 in /usr/local/lib/python3.10/dist-packages (from eth-utils<3,>=1.3.0->substrate-interface==1.5.0->bittensor) (0.5.2)\n",
            "Requirement already satisfied: cytoolz>=0.10.1 in /usr/local/lib/python3.10/dist-packages (from eth-utils<3,>=1.3.0->substrate-interface==1.5.0->bittensor) (0.12.2)\n",
            "Requirement already satisfied: fsspec in /usr/local/lib/python3.10/dist-packages (from huggingface-hub<1.0,>=0.11.0->transformers<=4.28.0,>=4.20.1->bittensor) (2023.6.0)\n",
            "Requirement already satisfied: greenlet!=0.4.17 in /usr/local/lib/python3.10/dist-packages (from SQLAlchemy<3,>=1.4->langchain<=0.0.188,>=0.0.132->bittensor) (2.0.2)\n",
            "Requirement already satisfied: ansible-core~=2.15.2 in /usr/local/lib/python3.10/dist-packages (from ansible->ansible-vault==2.1->bittensor) (2.15.2)\n",
            "Requirement already satisfied: arrow>=0.15.0 in /usr/local/lib/python3.10/dist-packages (from isoduration->jsonschema[format-nongpl]<=4.17.0,>=4.14.0->bittensor) (1.2.3)\n",
            "Requirement already satisfied: MarkupSafe>=2.0 in /usr/local/lib/python3.10/dist-packages (from jinja2->torch<=2.0.1,>=1.13.1->bittensor) (2.1.3)\n",
            "Requirement already satisfied: mpmath>=0.19 in /usr/local/lib/python3.10/dist-packages (from sympy->torch<=2.0.1,>=1.13.1->bittensor) (1.3.0)\n",
            "Requirement already satisfied: resolvelib<1.1.0,>=0.5.3 in /usr/local/lib/python3.10/dist-packages (from ansible-core~=2.15.2->ansible->ansible-vault==2.1->bittensor) (1.0.1)\n",
            "Requirement already satisfied: toolz>=0.8.0 in /usr/local/lib/python3.10/dist-packages (from cytoolz>=0.10.1->eth-utils<3,>=1.3.0->substrate-interface==1.5.0->bittensor) (0.12.0)\n",
            "Requirement already satisfied: mypy-extensions>=0.3.0 in /usr/local/lib/python3.10/dist-packages (from typing-inspect<1,>=0.4.0->dataclasses-json<0.6.0,>=0.5.7->langchain<=0.0.188,>=0.0.132->bittensor) (1.0.0)\n",
            "Installing collected packages: argparse\n",
            "Successfully installed argparse-1.4.0\n"
          ]
        },
        {
          "output_type": "display_data",
          "data": {
            "application/vnd.colab-display-data+json": {
              "pip_warning": {
                "packages": [
                  "argparse"
                ]
              }
            }
          },
          "metadata": {}
        }
      ],
      "source": [
        "#Install bittensor\n",
        "!pip install bittensor"
      ]
    },
    {
      "cell_type": "code",
      "source": [
        "#Load the metagraph\n",
        "import bittensor as bt\n",
        "\n",
        "metagraph = bt.metagraph(netuid=1,lite=False)"
      ],
      "metadata": {
        "colab": {
          "base_uri": "https://localhost:8080/"
        },
        "id": "6R_H4blkvTae",
        "outputId": "3f420abd-1764-469f-9745-827643679df6"
      },
      "execution_count": 2,
      "outputs": [
        {
          "output_type": "stream",
          "name": "stderr",
          "text": [
            "[WARNING]: failed to patch stdout/stderr for fork-safety: 'OutStream' object\n",
            "has no attribute 'buffer'\n",
            "[WARNING]: failed to reconfigure stdout/stderr with custom encoding error\n",
            "handler: 'OutStream' object has no attribute 'reconfigure'\n"
          ]
        }
      ]
    },
    {
      "cell_type": "code",
      "source": [
        "#Generate commands\n",
        "\"\"\" PLEASE WHITELIST YOUR OWN IP ADDRESS! OTHERWISE YOU WILL BE LOCKED OUT! \"\"\"\n",
        "\n",
        "#You can get your own IP through online IP lookup.\n",
        "your_ip_address_to_whitelist = \"\"\n",
        "\n",
        "if not your_ip_address_to_whitelist:\n",
        "  print(\"You did not enter your ip address\")\n",
        "  assert your_ip_address_to_whitelist\n",
        "\n",
        "\n",
        "axons_to_whitelist = []\n",
        "min_stake=5000\n",
        "\n",
        "for uid in range(len(metagraph.total_stake)):\n",
        "    if metagraph.total_stake[uid] > min_stake:\n",
        "        ip = metagraph.neurons[uid].axon_info.ip\n",
        "        if not ip in axons_to_whitelist and not ip == \"0.0.0.0\":\n",
        "            axons_to_whitelist.append(ip)\n",
        "\n",
        "\n",
        "print(\"sudo ufw disable\")\n",
        "print(\"sudo ufw default deny incoming\")\n",
        "\n",
        "print(\"sudo ufw allow proto tcp from {}/16\".format(your_ip_address_to_whitelist))\n",
        "\n",
        "print(\"sudo ufw allow 22\") # Allows trafict to port 22. It is best practice to change the port you use to connect to your instance, instead of whitelisting port 22. So you should replace this with the port you use.\n",
        "\n",
        "\n",
        "for item in axons_to_whitelist:\n",
        "    print(\"sudo ufw allow proto tcp from {}/16\".format(item))\n",
        "\n",
        "print(\"sudo ufw enable\")"
      ],
      "metadata": {
        "colab": {
          "base_uri": "https://localhost:8080/"
        },
        "id": "5Nvr1UvAzRTz",
        "outputId": "ea98edae-e0e5-4e9a-ddc2-d6ba915f603f"
      },
      "execution_count": 37,
      "outputs": [
        {
          "output_type": "stream",
          "name": "stdout",
          "text": [
            "sudo ufw disable\n",
            "sudo ufw default deny incoming\n",
            "sudo ufw allow proto tcp from 1.2.3.4/16\n",
            "sudo ufw allow 22\n",
            "sudo ufw allow proto tcp from 34.90.71.181/16\n",
            "sudo ufw allow proto tcp from 38.147.83.29/16\n",
            "sudo ufw allow proto tcp from 131.186.56.85/16\n",
            "sudo ufw allow proto tcp from 192.200.115.226/16\n",
            "sudo ufw allow proto tcp from 38.147.83.30/16\n",
            "sudo ufw allow proto tcp from 64.247.206.145/16\n",
            "sudo ufw allow proto tcp from 50.217.254.167/16\n",
            "sudo ufw allow proto tcp from 38.147.83.15/16\n",
            "sudo ufw allow proto tcp from 38.147.83.27/16\n",
            "sudo ufw allow proto tcp from 87.120.210.55/16\n",
            "sudo ufw allow proto tcp from 35.202.22.63/16\n",
            "sudo ufw allow proto tcp from 213.173.99.10/16\n",
            "sudo ufw allow proto tcp from 104.255.9.187/16\n",
            "sudo ufw allow proto tcp from 38.147.83.13/16\n",
            "sudo ufw allow proto tcp from 38.147.83.17/16\n",
            "sudo ufw allow proto tcp from 104.171.203.80/16\n",
            "sudo ufw allow proto tcp from 141.193.30.26/16\n",
            "sudo ufw allow proto tcp from 129.146.106.31/16\n",
            "sudo ufw allow proto tcp from 38.147.83.26/16\n",
            "sudo ufw allow proto tcp from 216.153.62.113/16\n",
            "sudo ufw allow proto tcp from 31.12.82.146/16\n",
            "sudo ufw allow proto tcp from 164.152.28.110/16\n",
            "sudo ufw allow proto tcp from 34.95.219.42/16\n",
            "sudo ufw allow proto tcp from 149.36.0.186/16\n",
            "sudo ufw allow proto tcp from 185.253.189.2/16\n",
            "sudo ufw allow proto tcp from 38.147.83.12/16\n",
            "sudo ufw allow proto tcp from 38.147.83.24/16\n",
            "sudo ufw allow proto tcp from 162.218.222.51/16\n",
            "sudo ufw allow proto tcp from 149.36.0.114/16\n",
            "sudo ufw allow proto tcp from 75.43.153.34/16\n",
            "sudo ufw allow proto tcp from 198.59.98.162/16\n",
            "sudo ufw allow proto tcp from 38.147.83.11/16\n",
            "sudo ufw allow proto tcp from 38.147.83.20/16\n",
            "sudo ufw allow proto tcp from 18.217.66.157/16\n",
            "sudo ufw allow proto tcp from 23.88.111.160/16\n",
            "sudo ufw allow proto tcp from 47.187.125.69/16\n",
            "sudo ufw allow proto tcp from 150.230.39.221/16\n",
            "sudo ufw enable\n"
          ]
        }
      ]
    },
    {
      "cell_type": "markdown",
      "source": [
        "###After you have generated the commands, you can run them on your ubuntu instance. But again please be careful not to lock yourself out. You can also ask ChatGPT if you have questions."
      ],
      "metadata": {
        "id": "sYiwF6dX43LH"
      }
    }
  ]
}